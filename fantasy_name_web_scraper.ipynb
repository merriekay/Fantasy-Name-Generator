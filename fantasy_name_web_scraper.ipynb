{
  "nbformat": 4,
  "nbformat_minor": 0,
  "metadata": {
    "colab": {
      "name": "fantasy_name_web_scraper.ipynb",
      "provenance": [],
      "authorship_tag": "ABX9TyNpMTpakJb7XeycS9fi+4rj",
      "include_colab_link": true
    },
    "kernelspec": {
      "name": "python3",
      "display_name": "Python 3"
    },
    "language_info": {
      "name": "python"
    }
  },
  "cells": [
    {
      "cell_type": "markdown",
      "metadata": {
        "id": "view-in-github",
        "colab_type": "text"
      },
      "source": [
        "<a href=\"https://colab.research.google.com/github/merriekay/Fantasy-Name-Generator/blob/main/fantasy_name_web_scraper.ipynb\" target=\"_parent\"><img src=\"https://colab.research.google.com/assets/colab-badge.svg\" alt=\"Open In Colab\"/></a>"
      ]
    },
    {
      "cell_type": "markdown",
      "metadata": {
        "id": "qigtLWKs_DnZ"
      },
      "source": [
        "# Let's Scrape some Fantasy Character Names\n",
        "\n",
        "Let's scrape the names from Brandon Sanderson Characters found on [this website](https://coppermind.net/wiki/Category:Characters). \n",
        "\n",
        "Let's start by importing Beautiful soup and providing the URL pointing to the webpage. We use the `requests` library to get the text from the html. "
      ]
    },
    {
      "cell_type": "code",
      "metadata": {
        "id": "W4YZ8aye--AM"
      },
      "source": [
        "from bs4 import BeautifulSoup\n",
        "import requests\n",
        "import csv\n",
        "\n",
        "source = requests.get('https://coppermind.net/wiki/Category:Characters').text\n",
        "\n",
        "soup = BeautifulSoup(source, 'html.parser')\n",
        "\n",
        "csv_file = open('fantasy_names_scrape.csv', 'w')\n",
        "csv_writer = csv.writer(csv_file)\n",
        "csv_writer.writerow(['name', 'author','genre']) \n",
        "\n",
        "print(soup.prettify())"
      ],
      "execution_count": 38,
      "outputs": []
    },
    {
      "cell_type": "markdown",
      "metadata": {
        "id": "xRhFZDryG-7J"
      },
      "source": [
        "Since the names are stored in `li`'s, we will use the `soup.find_all` function and provide the argument `li`. This will find all of the list items on the page. This is a good first step, but you'll notice, it's not quite what we want--it includes the list items before the actual charatcter names. \n",
        "\n",
        "Also, notice the line `li.text`. We are going through and getting each list item, and then only looking at the text (the `.text` line indicates this)."
      ]
    },
    {
      "cell_type": "code",
      "metadata": {
        "id": "8VedsWPIAq66"
      },
      "source": [
        "for li in soup.find_all('li'):\n",
        "  print(li.text)"
      ],
      "execution_count": null,
      "outputs": []
    },
    {
      "cell_type": "markdown",
      "metadata": {
        "id": "3pRT6VXfHbIc"
      },
      "source": [
        "So now that we can get the characters's names, we want to give it the correct starting point. here we'll use the `soup.find` function, and after using the 'Inspect' function on the browser, we know we're looking for the `div` element with `id='mw-pages'`. If we save this as `section`, we can then use this section of the website, combined with the code from above to collect a list of all of the names of Brandon Sanderson characters. "
      ]
    },
    {
      "cell_type": "code",
      "metadata": {
        "id": "iMq7bdVlBhGx"
      },
      "source": [
        "section = soup.find('div', id='mw-pages')\n",
        "for li in section.find_all('li'):\n",
        "  name = li.text\n",
        "  author = 'Brandon Sanderson'\n",
        "  genre = 'fantasy'\n",
        "  csv_writer.writerow([name, author, genre])\n",
        "  \n",
        "csv_file.close()"
      ],
      "execution_count": 36,
      "outputs": []
    },
    {
      "cell_type": "code",
      "metadata": {
        "colab": {
          "base_uri": "https://localhost:8080/",
          "height": 17
        },
        "id": "xx9NNFY5IQfr",
        "outputId": "848daa39-2340-4008-b65e-38b7a2f0105f"
      },
      "source": [
        "from google.colab import files\n",
        "files.download('fantasy_names_scrape.csv')"
      ],
      "execution_count": 37,
      "outputs": [
        {
          "output_type": "display_data",
          "data": {
            "application/javascript": [
              "\n",
              "    async function download(id, filename, size) {\n",
              "      if (!google.colab.kernel.accessAllowed) {\n",
              "        return;\n",
              "      }\n",
              "      const div = document.createElement('div');\n",
              "      const label = document.createElement('label');\n",
              "      label.textContent = `Downloading \"${filename}\": `;\n",
              "      div.appendChild(label);\n",
              "      const progress = document.createElement('progress');\n",
              "      progress.max = size;\n",
              "      div.appendChild(progress);\n",
              "      document.body.appendChild(div);\n",
              "\n",
              "      const buffers = [];\n",
              "      let downloaded = 0;\n",
              "\n",
              "      const channel = await google.colab.kernel.comms.open(id);\n",
              "      // Send a message to notify the kernel that we're ready.\n",
              "      channel.send({})\n",
              "\n",
              "      for await (const message of channel.messages) {\n",
              "        // Send a message to notify the kernel that we're ready.\n",
              "        channel.send({})\n",
              "        if (message.buffers) {\n",
              "          for (const buffer of message.buffers) {\n",
              "            buffers.push(buffer);\n",
              "            downloaded += buffer.byteLength;\n",
              "            progress.value = downloaded;\n",
              "          }\n",
              "        }\n",
              "      }\n",
              "      const blob = new Blob(buffers, {type: 'application/binary'});\n",
              "      const a = document.createElement('a');\n",
              "      a.href = window.URL.createObjectURL(blob);\n",
              "      a.download = filename;\n",
              "      div.appendChild(a);\n",
              "      a.click();\n",
              "      div.remove();\n",
              "    }\n",
              "  "
            ],
            "text/plain": [
              "<IPython.core.display.Javascript object>"
            ]
          },
          "metadata": {
            "tags": []
          }
        },
        {
          "output_type": "display_data",
          "data": {
            "application/javascript": [
              "download(\"download_7b07c12c-fb49-4c5f-88b0-4cd92e6a4adc\", \"fantasy_names_scrape.csv\", 71814)"
            ],
            "text/plain": [
              "<IPython.core.display.Javascript object>"
            ]
          },
          "metadata": {
            "tags": []
          }
        }
      ]
    },
    {
      "cell_type": "code",
      "metadata": {
        "id": "nvVJCqQ_I_12"
      },
      "source": [
        ""
      ],
      "execution_count": null,
      "outputs": []
    }
  ]
}