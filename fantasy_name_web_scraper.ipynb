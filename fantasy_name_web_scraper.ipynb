{
  "nbformat": 4,
  "nbformat_minor": 0,
  "metadata": {
    "colab": {
      "name": "fantasy_name_web_scraper.ipynb",
      "provenance": [],
      "authorship_tag": "ABX9TyMUWBs+VhU5x4qHDAAMLc4O",
      "include_colab_link": true
    },
    "kernelspec": {
      "name": "python3",
      "display_name": "Python 3"
    },
    "language_info": {
      "name": "python"
    }
  },
  "cells": [
    {
      "cell_type": "markdown",
      "metadata": {
        "id": "view-in-github",
        "colab_type": "text"
      },
      "source": [
        "<a href=\"https://colab.research.google.com/github/merriekay/Fantasy-Name-Generator/blob/main/fantasy_name_web_scraper.ipynb\" target=\"_parent\"><img src=\"https://colab.research.google.com/assets/colab-badge.svg\" alt=\"Open In Colab\"/></a>"
      ]
    },
    {
      "cell_type": "markdown",
      "metadata": {
        "id": "qigtLWKs_DnZ"
      },
      "source": [
        "# Let's Scrape some Fantasy Character Names\n",
        "\n",
        "## Brando Sando Style:\n",
        "\n",
        "Let's scrape the names from Brandon Sanderson Characters found on [this website](https://coppermind.net/wiki/Category:Characters). \n",
        "\n",
        "Let's start by importing Beautiful soup and providing the URL pointing to the webpage. We use the `requests` library to get the text from the html. "
      ]
    },
    {
      "cell_type": "code",
      "metadata": {
        "id": "W4YZ8aye--AM"
      },
      "source": [
        "from bs4 import BeautifulSoup\n",
        "import requests\n",
        "import csv\n",
        "\n",
        "source = requests.get('https://coppermind.net/wiki/Category:Characters').text\n",
        "\n",
        "soup = BeautifulSoup(source, 'html.parser')\n",
        "\n",
        "csv_file = open('fantasy_characters.csv', 'w')\n",
        "csv_writer = csv.writer(csv_file)\n",
        "csv_writer.writerow(['name', 'author','genre', 'series', 'description']) \n",
        "\n",
        "print(soup.prettify())"
      ],
      "execution_count": null,
      "outputs": []
    },
    {
      "cell_type": "markdown",
      "metadata": {
        "id": "xRhFZDryG-7J"
      },
      "source": [
        "Since the names are stored in `li`'s, we will use the `soup.find_all` function and provide the argument `li`. This will find all of the list items on the page. This is a good first step, but you'll notice, it's not quite what we want--it includes the list items before the actual charatcter names. \n",
        "\n",
        "Also, notice the line `li.text`. We are going through and getting each list item, and then only looking at the text (the `.text` line indicates this)."
      ]
    },
    {
      "cell_type": "code",
      "metadata": {
        "id": "8VedsWPIAq66"
      },
      "source": [
        "for li in soup.find_all('li'):\n",
        "  print(li.text)"
      ],
      "execution_count": null,
      "outputs": []
    },
    {
      "cell_type": "markdown",
      "metadata": {
        "id": "3pRT6VXfHbIc"
      },
      "source": [
        "So now that we can get the characters's names, we want to give it the correct starting point. here we'll use the `soup.find` function, and after using the 'Inspect' function on the browser, we know we're looking for the `div` element with `id='mw-pages'`. If we save this as `section`, we can then use this section of the website, combined with the code from above to collect a list of all of the names of Brandon Sanderson characters. "
      ]
    },
    {
      "cell_type": "code",
      "metadata": {
        "id": "iMq7bdVlBhGx"
      },
      "source": [
        "section = soup.find('div', id='mw-pages')\n",
        "for li in section.find_all('li'):\n",
        "  name = li.text\n",
        "  author = 'Brandon Sanderson'\n",
        "  genre = 'fantasy'\n",
        "  series = ''\n",
        "  description =''\n",
        "  csv_writer.writerow([name, author, genre, series, description])\n",
        "  "
      ],
      "execution_count": 48,
      "outputs": []
    },
    {
      "cell_type": "markdown",
      "metadata": {
        "id": "gf2giGG3LXwj"
      },
      "source": [
        "## Now let's add some Wheel of Time:\n",
        "\n",
        "New URL: https://en.wikipedia.org/wiki/List_of_Wheel_of_Time_characters \n",
        "\n",
        "You'll notice that the way this website is set up is a bit different from the Brando Sando website. We'll have to adjust our web-scarping code accordingly.\n"
      ]
    },
    {
      "cell_type": "code",
      "metadata": {
        "id": "E5CK6rxpLsIr"
      },
      "source": [
        "source = requests.get('https://en.wikipedia.org/wiki/List_of_Wheel_of_Time_characters').text\n",
        "\n",
        "soup = BeautifulSoup(source, 'html.parser')\n",
        "section = soup.find('div', class_='mw-parser-output')\n",
        "\n",
        "for li in section.find_all('li'):\n",
        "  list_item = li.text\n",
        "  if(len(list_item.split(':'))>1): #not all of the entries are names, but all the names follow the syntax <name: description>\n",
        "    name= list_item.split(':')[0]\n",
        "    description = list_item.split(':')[1]\n",
        "    series = 'Wheel of Time'\n",
        "    author = 'Robert Jordan'\n",
        "    genre= 'fantasy'\n",
        "    csv_writer.writerow([name, author, genre, series, description])"
      ],
      "execution_count": 49,
      "outputs": []
    },
    {
      "cell_type": "markdown",
      "metadata": {
        "id": "d_QPVVSqLprw"
      },
      "source": [
        "# Download, Please :) "
      ]
    },
    {
      "cell_type": "code",
      "metadata": {
        "colab": {
          "base_uri": "https://localhost:8080/",
          "height": 17
        },
        "id": "xx9NNFY5IQfr",
        "outputId": "be12b9f3-dbe8-497f-e228-af930b8966cf"
      },
      "source": [
        "csv_file.close()\n",
        "from google.colab import files\n",
        "files.download('fantasy_characters.csv')"
      ],
      "execution_count": 50,
      "outputs": [
        {
          "output_type": "display_data",
          "data": {
            "application/javascript": [
              "\n",
              "    async function download(id, filename, size) {\n",
              "      if (!google.colab.kernel.accessAllowed) {\n",
              "        return;\n",
              "      }\n",
              "      const div = document.createElement('div');\n",
              "      const label = document.createElement('label');\n",
              "      label.textContent = `Downloading \"${filename}\": `;\n",
              "      div.appendChild(label);\n",
              "      const progress = document.createElement('progress');\n",
              "      progress.max = size;\n",
              "      div.appendChild(progress);\n",
              "      document.body.appendChild(div);\n",
              "\n",
              "      const buffers = [];\n",
              "      let downloaded = 0;\n",
              "\n",
              "      const channel = await google.colab.kernel.comms.open(id);\n",
              "      // Send a message to notify the kernel that we're ready.\n",
              "      channel.send({})\n",
              "\n",
              "      for await (const message of channel.messages) {\n",
              "        // Send a message to notify the kernel that we're ready.\n",
              "        channel.send({})\n",
              "        if (message.buffers) {\n",
              "          for (const buffer of message.buffers) {\n",
              "            buffers.push(buffer);\n",
              "            downloaded += buffer.byteLength;\n",
              "            progress.value = downloaded;\n",
              "          }\n",
              "        }\n",
              "      }\n",
              "      const blob = new Blob(buffers, {type: 'application/binary'});\n",
              "      const a = document.createElement('a');\n",
              "      a.href = window.URL.createObjectURL(blob);\n",
              "      a.download = filename;\n",
              "      div.appendChild(a);\n",
              "      a.click();\n",
              "      div.remove();\n",
              "    }\n",
              "  "
            ],
            "text/plain": [
              "<IPython.core.display.Javascript object>"
            ]
          },
          "metadata": {
            "tags": []
          }
        },
        {
          "output_type": "display_data",
          "data": {
            "application/javascript": [
              "download(\"download_8cf76a83-d306-46b2-9dd2-7ba6d6fec3a2\", \"fantasy_characters.csv\", 110502)"
            ],
            "text/plain": [
              "<IPython.core.display.Javascript object>"
            ]
          },
          "metadata": {
            "tags": []
          }
        }
      ]
    }
  ]
}